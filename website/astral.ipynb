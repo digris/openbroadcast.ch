{
 "cells": [
  {
   "cell_type": "code",
   "execution_count": 12,
   "metadata": {
    "collapsed": false
   },
   "outputs": [
    {
     "name": "stdout",
     "output_type": "stream",
     "text": [
      "Bern/Switzerland, tz=Europe/Zurich, lat=46.95, lon=7.47\n",
      "Dawn:    2016-04-13 06:12:49+02:00\n",
      "Sunrise: 2016-04-13 06:44:36+02:00\n",
      "Noon:    2016-04-13 13:30:32+02:00\n",
      "Sunset:  2016-04-13 20:16:20+02:00\n",
      "Dusk:    2016-04-13 20:48:08+02:00\n",
      "2016-04-13 06:12:49+02:00\n",
      "2016-04-13 20:48:08+02:00\n"
     ]
    }
   ],
   "source": [
    "import datetime\n",
    "from astral import Astral\n",
    "city_name = 'Bern'\n",
    "\n",
    "a = Astral()\n",
    "a.solar_depression = 'civil'\n",
    "\n",
    "city = a[city_name]\n",
    "\n",
    "print city\n",
    "\n",
    "\n",
    "sun = city.sun(date=datetime.datetime.now().date(), local=True)\n",
    "print('Dawn:    %s' % str(sun['dawn']))\n",
    "print('Sunrise: %s' % str(sun['sunrise']))\n",
    "print('Noon:    %s' % str(sun['noon']))\n",
    "print('Sunset:  %s' % str(sun['sunset']))\n",
    "print('Dusk:    %s' % str(sun['dusk']))\n",
    "\n",
    "print sun['dawn']\n",
    "print sun['dusk']\n",
    "\n"
   ]
  },
  {
   "cell_type": "code",
   "execution_count": null,
   "metadata": {
    "collapsed": true
   },
   "outputs": [],
   "source": []
  }
 ],
 "metadata": {
  "kernelspec": {
   "display_name": "Django Shell-Plus",
   "language": "python",
   "name": "django_extensions"
  },
  "language_info": {
   "codemirror_mode": {
    "name": "ipython",
    "version": 2
   },
   "file_extension": ".py",
   "mimetype": "text/x-python",
   "name": "python",
   "nbconvert_exporter": "python",
   "pygments_lexer": "ipython2",
   "version": "2.7.10"
  }
 },
 "nbformat": 4,
 "nbformat_minor": 0
}
