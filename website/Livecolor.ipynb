{
 "cells": [
  {
   "cell_type": "code",
   "execution_count": 4,
   "metadata": {
    "collapsed": true
   },
   "outputs": [],
   "source": [
    "from livecolor.tasks import update_colors\n",
    "from livecolor.util.colors import set_colors_by_mode"
   ]
  },
  {
   "cell_type": "markdown",
   "metadata": {},
   "source": [
    "## celery *delayed* tasks / *eta*\n",
    "\n",
    "http://stackoverflow.com/questions/1990531/how-can-i-schedule-a-task-to-execute-at-a-specific-time-using-celery"
   ]
  },
  {
   "cell_type": "code",
   "execution_count": 4,
   "metadata": {
    "collapsed": false
   },
   "outputs": [
    {
     "data": {
      "text/plain": [
       "<AsyncResult: 732f1fb0-ffd8-4f32-bc94-42288a38bf61>"
      ]
     },
     "execution_count": 4,
     "metadata": {},
     "output_type": "execute_result"
    }
   ],
   "source": [
    "#set_colors_by_mode('night')\n",
    "update_colors.apply_async(kwargs={'mode': 'day'})"
   ]
  },
  {
   "cell_type": "code",
   "execution_count": 2,
   "metadata": {
    "collapsed": false
   },
   "outputs": [],
   "source": [
    "import datetime\n",
    "from django.utils import timezone"
   ]
  },
  {
   "cell_type": "markdown",
   "metadata": {},
   "source": [
    "Delayed tasks"
   ]
  },
  {
   "cell_type": "code",
   "execution_count": 105,
   "metadata": {
    "collapsed": false
   },
   "outputs": [
    {
     "data": {
      "text/plain": [
       "<AsyncResult: 99fb0e70-f897-4cae-81fc-c6e0cea2180c>"
      ]
     },
     "execution_count": 105,
     "metadata": {},
     "output_type": "execute_result"
    }
   ],
   "source": [
    "eta = timezone.now() + datetime.timedelta(seconds=15)\n",
    "update_colors.apply_async(kwargs={'mode': 'day'}, eta=eta)"
   ]
  },
  {
   "cell_type": "code",
   "execution_count": 99,
   "metadata": {
    "collapsed": false
   },
   "outputs": [
    {
     "data": {
      "text/plain": [
       "<AsyncResult: 07f0c74f-6a1d-44f4-84f9-5b9f6c401446>"
      ]
     },
     "execution_count": 99,
     "metadata": {},
     "output_type": "execute_result"
    }
   ],
   "source": [
    "eta = timezone.now() + datetime.timedelta(seconds=300)\n",
    "update_colors.apply_async(kwargs={'mode': 'night'}, eta=eta)"
   ]
  },
  {
   "cell_type": "code",
   "execution_count": 104,
   "metadata": {
    "collapsed": false
   },
   "outputs": [
    {
     "name": "stdout",
     "output_type": "stream",
     "text": [
      "{u'celery@MB13.local': []}\n"
     ]
    }
   ],
   "source": [
    "from celery.task.control import inspect, revoke\n",
    "import itertools\n",
    "i = inspect()\n",
    "sched = i.scheduled()\n",
    "\n",
    "print sched\n",
    "\n",
    "for host, items in sched.iteritems():\n",
    "    for id in [x['request']['id'] for x in items if x['request']['name'] == 'livecolor.tasks.update_colors']:\n",
    "        revoke(id)\n",
    "        "
   ]
  },
  {
   "cell_type": "code",
   "execution_count": 10,
   "metadata": {
    "collapsed": false
   },
   "outputs": [],
   "source": [
    "from celery.task.control import discard_all, revoke\n",
    "revoke('b96e63f1-de82-4ca5-8560-30646392e746')\n",
    "#discard_all()"
   ]
  },
  {
   "cell_type": "code",
   "execution_count": 56,
   "metadata": {
    "collapsed": false
   },
   "outputs": [
    {
     "data": {
      "text/plain": [
       "0"
      ]
     },
     "execution_count": 56,
     "metadata": {},
     "output_type": "execute_result"
    }
   ],
   "source": [
    "from project.celery import app\n",
    "#app.control.revoke('livecolor.tasks.update_colors')\n",
    "app.control.purge()"
   ]
  },
  {
   "cell_type": "code",
   "execution_count": 26,
   "metadata": {
    "collapsed": false
   },
   "outputs": [],
   "source": [
    "t.revoke()"
   ]
  },
  {
   "cell_type": "code",
   "execution_count": null,
   "metadata": {
    "collapsed": true
   },
   "outputs": [],
   "source": [
    "\n"
   ]
  }
 ],
 "metadata": {
  "kernelspec": {
   "display_name": "Django Shell-Plus",
   "language": "python",
   "name": "django_extensions"
  },
  "language_info": {
   "codemirror_mode": {
    "name": "ipython",
    "version": 2
   },
   "file_extension": ".py",
   "mimetype": "text/x-python",
   "name": "python",
   "nbconvert_exporter": "python",
   "pygments_lexer": "ipython2",
   "version": "2.7.10"
  }
 },
 "nbformat": 4,
 "nbformat_minor": 0
}
